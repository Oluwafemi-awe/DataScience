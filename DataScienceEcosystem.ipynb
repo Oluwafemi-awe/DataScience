{
 "cells": [
  {
   "cell_type": "markdown",
   "id": "37e5b99f-8b4f-4e6b-8f66-a21bbdec766c",
   "metadata": {},
   "source": [
    "# Data Science Tools and Ecosystem"
   ]
  },
  {
   "cell_type": "markdown",
   "id": "9d023b4d-0358-4503-8394-d08ad449f41f",
   "metadata": {},
   "source": [
    "In this notebook, data Science Tools and Ecosystem are summarized"
   ]
  },
  {
   "cell_type": "markdown",
   "id": "36ef1e34-cd99-40d5-9b17-02d69215ca20",
   "metadata": {},
   "source": [
    "**Objectives**\n",
    "- List popular languages for Data Science\n",
    "- List libraries used by Data Scientists\n",
    "- Identify some development environment open source tools\n",
    "- How to make tables\n",
    "- Evaluating arithmetic expressions in python"
   ]
  },
  {
   "cell_type": "markdown",
   "id": "189039ec-4453-4803-9a9e-6c3da9beb9c4",
   "metadata": {},
   "source": [
    "Some of the popular languages that Data Scientists use are:\n",
    "1. Python\n",
    "2. R\n",
    "3. SQL\n",
    "4. Java\n",
    "5. Scala\n",
    "6. Julia"
   ]
  },
  {
   "cell_type": "markdown",
   "id": "dc235603-076d-4bd2-88ee-770da1c1bd76",
   "metadata": {},
   "source": [
    "Some of the commonly used libraries used by Data scientists include:\n",
    "1. Pandas\n",
    "2. NumPY\n",
    "3. Matplotlib\n",
    "4. Keras\n",
    "5. Tensorflow"
   ]
  },
  {
   "cell_type": "markdown",
   "id": "015e0cc0-ada4-4775-9e1e-0eb959a3d9fa",
   "metadata": {},
   "source": [
    "|Data Science Tools|\n",
    "|---------------|\n",
    "|RStudio|\n",
    "|Jupyterlab|\n",
    "|VScode|"
   ]
  },
  {
   "cell_type": "markdown",
   "id": "f59fb805-d9f3-4a64-8a0a-7c813eaa8cb2",
   "metadata": {},
   "source": [
    "### Below are a few examples of evaluating arithmetic expressions in Python."
   ]
  },
  {
   "cell_type": "code",
   "execution_count": 4,
   "id": "e95f0b16-1271-47ee-a1af-533eb31a2177",
   "metadata": {},
   "outputs": [
    {
     "data": {
      "text/plain": [
       "17"
      ]
     },
     "execution_count": 4,
     "metadata": {},
     "output_type": "execute_result"
    }
   ],
   "source": [
    "#This is a simple arithmetic expression to multiply and then add intergers\n",
    "(3*4)+5"
   ]
  },
  {
   "cell_type": "code",
   "execution_count": 10,
   "id": "e3365683-0117-4675-83fb-c0c74739b9cf",
   "metadata": {},
   "outputs": [
    {
     "name": "stdout",
     "output_type": "stream",
     "text": [
      "3.3333333333333335\n"
     ]
    }
   ],
   "source": [
    "#This will convert 200 minutes to hours by dividing by 60.\n",
    "def convert_minutes_to_hours(minutes):\n",
    "    hours = minutes / 60\n",
    "    return hours\n",
    "\n",
    "print(convert_minutes_to_hours(200))"
   ]
  },
  {
   "cell_type": "code",
   "execution_count": 12,
   "id": "2b6de711-79cd-4c6e-89b9-3fdb470a6a13",
   "metadata": {},
   "outputs": [
    {
     "name": "stdout",
     "output_type": "stream",
     "text": [
      "4.0\n"
     ]
    }
   ],
   "source": [
    "def convert_grammes_to_kilogrammes(grammes):\n",
    "    kilogrammes = grammes/1000\n",
    "    return kilogrammes\n",
    "\n",
    "print(convert_grammes_to_kilogrammes(4000))"
   ]
  },
  {
   "cell_type": "code",
   "execution_count": 14,
   "id": "50a37b4d-7f00-44b5-b5e6-0e6a1cfaf933",
   "metadata": {},
   "outputs": [
    {
     "name": "stdout",
     "output_type": "stream",
     "text": [
      "20000\n"
     ]
    }
   ],
   "source": [
    "def convert_cm_to_m(cm):\n",
    "    m=cm*100\n",
    "    return m\n",
    "\n",
    "print(convert_cm_to_m(200))"
   ]
  },
  {
   "cell_type": "markdown",
   "id": "0f3c3c0b-9e8f-4300-b75f-9c62aa9674b1",
   "metadata": {},
   "source": [
    "## Author\n",
    "\n",
    "**Oluwafemi Busayo Awe**"
   ]
  },
  {
   "cell_type": "code",
   "execution_count": null,
   "id": "7fd9ba67-457e-41ea-b636-b2f4db06bf4c",
   "metadata": {},
   "outputs": [],
   "source": []
  }
 ],
 "metadata": {
  "kernelspec": {
   "display_name": "Python [conda env:anacondaa3]",
   "language": "python",
   "name": "conda-env-anacondaa3-py"
  },
  "language_info": {
   "codemirror_mode": {
    "name": "ipython",
    "version": 3
   },
   "file_extension": ".py",
   "mimetype": "text/x-python",
   "name": "python",
   "nbconvert_exporter": "python",
   "pygments_lexer": "ipython3",
   "version": "3.12.7"
  }
 },
 "nbformat": 4,
 "nbformat_minor": 5
}
