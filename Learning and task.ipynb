{
 "cells": [
  {
   "cell_type": "code",
   "execution_count": 1,
   "id": "7fe521f8-af48-46f0-ad27-2de9079c46d8",
   "metadata": {},
   "outputs": [
    {
     "name": "stdout",
     "output_type": "stream",
     "text": [
      "Hello World\n"
     ]
    }
   ],
   "source": [
    "print(\"Hello World\")"
   ]
  },
  {
   "cell_type": "code",
   "execution_count": null,
   "id": "0be8d7c7-e05f-463d-b4da-48468d4f5850",
   "metadata": {},
   "outputs": [],
   "source": [
    "#print() is a function while \"Hello World\" is the string\n"
   ]
  },
  {
   "cell_type": "code",
   "execution_count": null,
   "id": "93797e37-ba9a-413b-96a5-884f1d9e1cd4",
   "metadata": {},
   "outputs": [],
   "source": [
    "#to check the python version in use, we import the sys version and then print the sys version\n",
    "import sys\n",
    "print(sys.version)\n",
    "\n",
    "#print(\"Hi\") \n",
    "#this code is not executed because it was preceded by the number sign (#)"
   ]
  },
  {
   "cell_type": "code",
   "execution_count": null,
   "id": "898e40db-373f-4299-94e1-314e0bf2ae1d",
   "metadata": {},
   "outputs": [],
   "source": [
    "#print(\"Hi\") it wont be executed because it was preceded buy #\n"
   ]
  },
  {
   "cell_type": "code",
   "execution_count": 17,
   "id": "d4b869cf-8639-4c96-a943-e9baab1b782e",
   "metadata": {},
   "outputs": [
    {
     "name": "stdout",
     "output_type": "stream",
     "text": [
      "This will be printed because it has no # in the front and also the string is written correctly contained in invertyed comma\n"
     ]
    }
   ],
   "source": [
    "print(\"This will be printed because it has no # in the front and also the string is written correctly contained in invertyed comma\")"
   ]
  },
  {
   "cell_type": "raw",
   "id": "7c56625a-7226-456e-add2-3d2f1f67e368",
   "metadata": {},
   "source": [
    "frint(\"Hello universe\")\n",
    "#python interprets scripts line by line. it will stop printing when it encounters an error such as the code above. Nothing like frint() function"
   ]
  },
  {
   "cell_type": "code",
   "execution_count": 18,
   "id": "ffca244e-6801-43db-a003-309666a85b7f",
   "metadata": {},
   "outputs": [
    {
     "name": "stdout",
     "output_type": "stream",
     "text": [
      "This will NOT be printed\n"
     ]
    }
   ],
   "source": [
    "print(\"This will NOT be printed\")"
   ]
  },
  {
   "cell_type": "code",
   "execution_count": 20,
   "id": "adfa1547-0ca9-492d-8e2d-63e7f4a8c0ed",
   "metadata": {},
   "outputs": [
    {
     "ename": "SyntaxError",
     "evalue": "unterminated string literal (detected at line 1) (1858870045.py, line 1)",
     "output_type": "error",
     "traceback": [
      "\u001b[1;36m  Cell \u001b[1;32mIn[20], line 1\u001b[1;36m\u001b[0m\n\u001b[1;33m    print(\"Hello)\u001b[0m\n\u001b[1;37m          ^\u001b[0m\n\u001b[1;31mSyntaxError\u001b[0m\u001b[1;31m:\u001b[0m unterminated string literal (detected at line 1)\n"
     ]
    }
   ],
   "source": [
    "print(\"Hello)\n",
    "      #syntax error occurs when executed because the string is not written correctly-it lacks the last double inverted commas"
   ]
  },
  {
   "cell_type": "code",
   "execution_count": 21,
   "id": "28e75bbf-5c68-4760-a9c7-7bea4bab3aee",
   "metadata": {},
   "outputs": [
    {
     "data": {
      "text/plain": [
       "17"
      ]
     },
     "execution_count": 21,
     "metadata": {},
     "output_type": "execute_result"
    }
   ],
   "source": [
    "z=2+15\n",
    "z"
   ]
  },
  {
   "cell_type": "code",
   "execution_count": 23,
   "id": "98ed1903-6bfd-4ff9-bc8c-c2c7d6c1383d",
   "metadata": {},
   "outputs": [
    {
     "data": {
      "text/plain": [
       "int"
      ]
     },
     "execution_count": 23,
     "metadata": {},
     "output_type": "execute_result"
    }
   ],
   "source": [
    "#to check data type, we use the type() function\n",
    "type(12)\n",
    "#this means type of 12\n",
    "#12 being an integer"
   ]
  },
  {
   "cell_type": "code",
   "execution_count": 24,
   "id": "71de4cb2-3963-4ccb-a577-b234f4f3870b",
   "metadata": {},
   "outputs": [
    {
     "data": {
      "text/plain": [
       "float"
      ]
     },
     "execution_count": 24,
     "metadata": {},
     "output_type": "execute_result"
    }
   ],
   "source": [
    "type(3.56)\n",
    "#type of 3.56"
   ]
  },
  {
   "cell_type": "code",
   "execution_count": 25,
   "id": "b285ef76-7645-470f-aba5-d71c9906b97b",
   "metadata": {},
   "outputs": [
    {
     "data": {
      "text/plain": [
       "float"
      ]
     },
     "execution_count": 25,
     "metadata": {},
     "output_type": "execute_result"
    }
   ],
   "source": [
    "type(12.0)"
   ]
  },
  {
   "cell_type": "code",
   "execution_count": null,
   "id": "f7fd3ff6-61a4-4b12-a797-8652925212ac",
   "metadata": {},
   "outputs": [],
   "source": [
    "#int can be negative or positive value"
   ]
  },
  {
   "cell_type": "code",
   "execution_count": 31,
   "id": "bea46a8d-7cd0-47ab-b561-796375749588",
   "metadata": {},
   "outputs": [
    {
     "data": {
      "text/plain": [
       "int"
      ]
     },
     "execution_count": 31,
     "metadata": {},
     "output_type": "execute_result"
    }
   ],
   "source": [
    "type(-2)"
   ]
  },
  {
   "cell_type": "code",
   "execution_count": 32,
   "id": "6a5454db-f4f9-4688-bdba-d7bc088e1431",
   "metadata": {},
   "outputs": [
    {
     "data": {
      "text/plain": [
       "int"
      ]
     },
     "execution_count": 32,
     "metadata": {},
     "output_type": "execute_result"
    }
   ],
   "source": [
    "type(0)"
   ]
  },
  {
   "cell_type": "code",
   "execution_count": 33,
   "id": "558a7f7f-4b4f-48c3-a3c2-7c4ccd34cdf1",
   "metadata": {},
   "outputs": [
    {
     "data": {
      "text/plain": [
       "int"
      ]
     },
     "execution_count": 33,
     "metadata": {},
     "output_type": "execute_result"
    }
   ],
   "source": [
    "type(-20)"
   ]
  },
  {
   "cell_type": "code",
   "execution_count": 34,
   "id": "f045af74-2059-4a94-9d11-8835b7821474",
   "metadata": {},
   "outputs": [
    {
     "name": "stdout",
     "output_type": "stream",
     "text": [
      "sys.float_info(max=1.7976931348623157e+308, max_exp=1024, max_10_exp=308, min=2.2250738585072014e-308, min_exp=-1021, min_10_exp=-307, dig=15, mant_dig=53, epsilon=2.220446049250313e-16, radix=2, rounds=1)\n"
     ]
    }
   ],
   "source": [
    "import sys\n",
    "print(sys.float_info)"
   ]
  },
  {
   "cell_type": "code",
   "execution_count": 35,
   "id": "2716b9ae-328e-4fd1-8df6-cd391d6d87d4",
   "metadata": {},
   "outputs": [
    {
     "data": {
      "text/plain": [
       "int"
      ]
     },
     "execution_count": 35,
     "metadata": {},
     "output_type": "execute_result"
    }
   ],
   "source": [
    "#converting from one object to another\n",
    "type(2)\n",
    "#convert integer 2 to float and then check the type. i.e., check below\n"
   ]
  },
  {
   "cell_type": "code",
   "execution_count": 36,
   "id": "28766821-603f-4dc9-9343-2b6e1b2403a5",
   "metadata": {},
   "outputs": [
    {
     "data": {
      "text/plain": [
       "2.0"
      ]
     },
     "execution_count": 36,
     "metadata": {},
     "output_type": "execute_result"
    }
   ],
   "source": [
    "float(2)\n",
    "#to check the type, type(float(2))"
   ]
  },
  {
   "cell_type": "code",
   "execution_count": 37,
   "id": "28cf1c10-9643-472e-b0b4-2c7e9a0d6803",
   "metadata": {},
   "outputs": [
    {
     "data": {
      "text/plain": [
       "float"
      ]
     },
     "execution_count": 37,
     "metadata": {},
     "output_type": "execute_result"
    }
   ],
   "source": [
    "type(float(2))"
   ]
  },
  {
   "cell_type": "code",
   "execution_count": 38,
   "id": "0b5a9504-1722-41a8-b14b-11137dde20e4",
   "metadata": {},
   "outputs": [
    {
     "data": {
      "text/plain": [
       "1"
      ]
     },
     "execution_count": 38,
     "metadata": {},
     "output_type": "execute_result"
    }
   ],
   "source": [
    "int(1.1) \n",
    "#changing from float to integer, info will be lost. e.g., 1.1 to integer will result to 1 losing 0.1"
   ]
  },
  {
   "cell_type": "code",
   "execution_count": 39,
   "id": "7a65e4a3-28fc-4aa8-93d3-0e5b914e9fd4",
   "metadata": {},
   "outputs": [
    {
     "data": {
      "text/plain": [
       "int"
      ]
     },
     "execution_count": 39,
     "metadata": {},
     "output_type": "execute_result"
    }
   ],
   "source": [
    "type(int(1.1))"
   ]
  },
  {
   "cell_type": "code",
   "execution_count": 40,
   "id": "d48d3142-6f50-4eb0-ad2d-e32ed568aeaf",
   "metadata": {},
   "outputs": [
    {
     "data": {
      "text/plain": [
       "5"
      ]
     },
     "execution_count": 40,
     "metadata": {},
     "output_type": "execute_result"
    }
   ],
   "source": [
    "int(5.6)"
   ]
  },
  {
   "cell_type": "code",
   "execution_count": 41,
   "id": "aa6d9b7c-b0d3-4712-af85-9709bb942527",
   "metadata": {},
   "outputs": [
    {
     "data": {
      "text/plain": [
       "int"
      ]
     },
     "execution_count": 41,
     "metadata": {},
     "output_type": "execute_result"
    }
   ],
   "source": [
    "type(int(5.6))"
   ]
  },
  {
   "cell_type": "code",
   "execution_count": 43,
   "id": "921228aa-1edb-4a10-9ba7-4ebe51ad45ea",
   "metadata": {},
   "outputs": [
    {
     "data": {
      "text/plain": [
       "3"
      ]
     },
     "execution_count": 43,
     "metadata": {},
     "output_type": "execute_result"
    }
   ],
   "source": [
    "#string can also be converted into integers or floats\n",
    "int(\"3\")\n",
    "#\"3.4\" is the string---double inverted commas. A string can be represented with single or double quotes, but cant be mixed"
   ]
  },
  {
   "cell_type": "code",
   "execution_count": 44,
   "id": "dcbaeb8f-3960-4764-954e-be46e8337371",
   "metadata": {},
   "outputs": [
    {
     "data": {
      "text/plain": [
       "3.4"
      ]
     },
     "execution_count": 44,
     "metadata": {},
     "output_type": "execute_result"
    }
   ],
   "source": [
    "float(\"3.4\")\n",
    "#string 3.4 conversion to float"
   ]
  },
  {
   "cell_type": "code",
   "execution_count": 45,
   "id": "9c3e06d2-e5b6-4a32-97fc-5ace35c49309",
   "metadata": {},
   "outputs": [
    {
     "data": {
      "text/plain": [
       "int"
      ]
     },
     "execution_count": 45,
     "metadata": {},
     "output_type": "execute_result"
    }
   ],
   "source": [
    "type(int(\"3\"))"
   ]
  },
  {
   "cell_type": "code",
   "execution_count": 46,
   "id": "ec9bb6dd-e520-448d-8ebd-dc666c461c4c",
   "metadata": {},
   "outputs": [
    {
     "data": {
      "text/plain": [
       "'1'"
      ]
     },
     "execution_count": 46,
     "metadata": {},
     "output_type": "execute_result"
    }
   ],
   "source": [
    "#converting integer to string\n",
    "str(1)"
   ]
  },
  {
   "cell_type": "code",
   "execution_count": 47,
   "id": "a44f1aad-14c0-420c-8904-6273b25f0d15",
   "metadata": {},
   "outputs": [
    {
     "data": {
      "text/plain": [
       "'4.5'"
      ]
     },
     "execution_count": 47,
     "metadata": {},
     "output_type": "execute_result"
    }
   ],
   "source": [
    "str(4.5)"
   ]
  },
  {
   "cell_type": "code",
   "execution_count": 48,
   "id": "c2a91ab1-5048-4933-9f52-fc7c82320e66",
   "metadata": {},
   "outputs": [
    {
     "data": {
      "text/plain": [
       "True"
      ]
     },
     "execution_count": 48,
     "metadata": {},
     "output_type": "execute_result"
    }
   ],
   "source": [
    "True\n",
    "#Boolean takes either T or F"
   ]
  },
  {
   "cell_type": "code",
   "execution_count": 49,
   "id": "31a281c6-d49a-4677-9a47-bee96f24634b",
   "metadata": {},
   "outputs": [
    {
     "data": {
      "text/plain": [
       "False"
      ]
     },
     "execution_count": 49,
     "metadata": {},
     "output_type": "execute_result"
    }
   ],
   "source": [
    "False"
   ]
  },
  {
   "cell_type": "code",
   "execution_count": 50,
   "id": "8125eee2-9b7b-4fce-b2ba-e573f45196f3",
   "metadata": {},
   "outputs": [
    {
     "data": {
      "text/plain": [
       "bool"
      ]
     },
     "execution_count": 50,
     "metadata": {},
     "output_type": "execute_result"
    }
   ],
   "source": [
    "type(True)"
   ]
  },
  {
   "cell_type": "code",
   "execution_count": 51,
   "id": "2687ca44-60b0-4f6c-9e52-3015520f6dce",
   "metadata": {},
   "outputs": [
    {
     "data": {
      "text/plain": [
       "bool"
      ]
     },
     "execution_count": 51,
     "metadata": {},
     "output_type": "execute_result"
    }
   ],
   "source": [
    "type(False)"
   ]
  },
  {
   "cell_type": "code",
   "execution_count": 53,
   "id": "590174f3-1dda-4973-8ba1-c1e26e9070c1",
   "metadata": {},
   "outputs": [
    {
     "data": {
      "text/plain": [
       "True"
      ]
     },
     "execution_count": 53,
     "metadata": {},
     "output_type": "execute_result"
    }
   ],
   "source": [
    "#We can also do converion involving boolean, string, integer, float\n",
    "bool(5)"
   ]
  },
  {
   "cell_type": "code",
   "execution_count": 54,
   "id": "0b60ef21-3582-4649-9ce7-4903691218a5",
   "metadata": {},
   "outputs": [
    {
     "data": {
      "text/plain": [
       "bool"
      ]
     },
     "execution_count": 54,
     "metadata": {},
     "output_type": "execute_result"
    }
   ],
   "source": [
    "type(bool(5))"
   ]
  },
  {
   "cell_type": "code",
   "execution_count": 55,
   "id": "38ef34d0-3bee-4f4b-8f22-312cd1fd4b9e",
   "metadata": {},
   "outputs": [
    {
     "data": {
      "text/plain": [
       "True"
      ]
     },
     "execution_count": 55,
     "metadata": {},
     "output_type": "execute_result"
    }
   ],
   "source": [
    "bool(\"3.4\")"
   ]
  },
  {
   "cell_type": "code",
   "execution_count": 57,
   "id": "ca0a3d65-ff62-41e7-978b-93094e815687",
   "metadata": {},
   "outputs": [
    {
     "data": {
      "text/plain": [
       "'True'"
      ]
     },
     "execution_count": 57,
     "metadata": {},
     "output_type": "execute_result"
    }
   ],
   "source": [
    "str(True)"
   ]
  },
  {
   "cell_type": "code",
   "execution_count": 58,
   "id": "e3441798-3f5f-4c2c-b487-8531448ab12b",
   "metadata": {},
   "outputs": [
    {
     "data": {
      "text/plain": [
       "True"
      ]
     },
     "execution_count": 58,
     "metadata": {},
     "output_type": "execute_result"
    }
   ],
   "source": [
    "bool(1)"
   ]
  },
  {
   "cell_type": "code",
   "execution_count": 59,
   "id": "9a6129c3-4848-43a4-b882-59b8513140cd",
   "metadata": {},
   "outputs": [
    {
     "data": {
      "text/plain": [
       "False"
      ]
     },
     "execution_count": 59,
     "metadata": {},
     "output_type": "execute_result"
    }
   ],
   "source": [
    "bool(0)\n",
    "#casting a 0 to boolean gives False while 1 to a boolean gives True"
   ]
  },
  {
   "cell_type": "code",
   "execution_count": 56,
   "id": "0c131c70-0b8f-4eb7-b79b-a48b10e9b4d9",
   "metadata": {},
   "outputs": [
    {
     "data": {
      "text/plain": [
       "1.0"
      ]
     },
     "execution_count": 56,
     "metadata": {},
     "output_type": "execute_result"
    }
   ],
   "source": [
    "float(True)\n",
    "#casting a true to float gives 1.0 while False to a float 0.0"
   ]
  },
  {
   "cell_type": "code",
   "execution_count": 60,
   "id": "72dbb5de-3556-4d21-8283-94f8faeed141",
   "metadata": {},
   "outputs": [
    {
     "data": {
      "text/plain": [
       "0.0"
      ]
     },
     "execution_count": 60,
     "metadata": {},
     "output_type": "execute_result"
    }
   ],
   "source": [
    "float(False)\n",
    "#casting False to float"
   ]
  },
  {
   "cell_type": "code",
   "execution_count": 61,
   "id": "297a534d-ab46-4e6e-be83-a36dbc3d2f33",
   "metadata": {},
   "outputs": [
    {
     "data": {
      "text/plain": [
       "3.0"
      ]
     },
     "execution_count": 61,
     "metadata": {},
     "output_type": "execute_result"
    }
   ],
   "source": [
    "6/2"
   ]
  },
  {
   "cell_type": "code",
   "execution_count": 62,
   "id": "abe59d47-a2c6-4363-87d2-c26d80fad158",
   "metadata": {},
   "outputs": [
    {
     "data": {
      "text/plain": [
       "float"
      ]
     },
     "execution_count": 62,
     "metadata": {},
     "output_type": "execute_result"
    }
   ],
   "source": [
    "type(6/2)\n",
    "#single slash result into float answer."
   ]
  },
  {
   "cell_type": "code",
   "execution_count": 63,
   "id": "9ee3ff74-a1a2-4afb-ba30-1fc669aee569",
   "metadata": {},
   "outputs": [
    {
     "data": {
      "text/plain": [
       "int"
      ]
     },
     "execution_count": 63,
     "metadata": {},
     "output_type": "execute_result"
    }
   ],
   "source": [
    "type(6//2)\n",
    "#double slash stands for int division"
   ]
  },
  {
   "cell_type": "code",
   "execution_count": 64,
   "id": "af93ee19-7caa-4576-91d7-1d4845d90c3f",
   "metadata": {},
   "outputs": [
    {
     "data": {
      "text/plain": [
       "3"
      ]
     },
     "execution_count": 64,
     "metadata": {},
     "output_type": "execute_result"
    }
   ],
   "source": [
    "6//2"
   ]
  },
  {
   "cell_type": "code",
   "execution_count": 66,
   "id": "8cf67248-fc75-4e77-9c5a-0ce32962f214",
   "metadata": {},
   "outputs": [
    {
     "data": {
      "text/plain": [
       "str"
      ]
     },
     "execution_count": 66,
     "metadata": {},
     "output_type": "execute_result"
    }
   ],
   "source": [
    "type(\"Hello, World\")"
   ]
  },
  {
   "cell_type": "code",
   "execution_count": 67,
   "id": "d5eedaca-3e19-428f-a170-4abeef8b0d8b",
   "metadata": {},
   "outputs": [
    {
     "data": {
      "text/plain": [
       "bool"
      ]
     },
     "execution_count": 67,
     "metadata": {},
     "output_type": "execute_result"
    }
   ],
   "source": [
    "type(\"hello\" == \"world\")"
   ]
  },
  {
   "cell_type": "code",
   "execution_count": 68,
   "id": "5b49bf84-78c3-428b-9c18-1f95fce324a0",
   "metadata": {},
   "outputs": [
    {
     "data": {
      "text/plain": [
       "False"
      ]
     },
     "execution_count": 68,
     "metadata": {},
     "output_type": "execute_result"
    }
   ],
   "source": [
    "\"hello\"==\"world\""
   ]
  },
  {
   "cell_type": "code",
   "execution_count": 69,
   "id": "bfd3b1ba-3a26-40a9-b35c-1cd1e9cccfa0",
   "metadata": {},
   "outputs": [
    {
     "data": {
      "text/plain": [
       "bool"
      ]
     },
     "execution_count": 69,
     "metadata": {},
     "output_type": "execute_result"
    }
   ],
   "source": [
    "type(\"10\"==\"5\")"
   ]
  },
  {
   "cell_type": "code",
   "execution_count": 72,
   "id": "5208cfb6-cf9e-4003-9547-1c6c5308837d",
   "metadata": {},
   "outputs": [
    {
     "data": {
      "text/plain": [
       "4.0"
      ]
     },
     "execution_count": 72,
     "metadata": {},
     "output_type": "execute_result"
    }
   ],
   "source": [
    "float(4)"
   ]
  },
  {
   "cell_type": "code",
   "execution_count": 73,
   "id": "46c505d0-ea61-4ae5-ac95-27d33a171360",
   "metadata": {},
   "outputs": [
    {
     "data": {
      "text/plain": [
       "1001"
      ]
     },
     "execution_count": 73,
     "metadata": {},
     "output_type": "execute_result"
    }
   ],
   "source": [
    "int(\"1001\")"
   ]
  },
  {
   "cell_type": "code",
   "execution_count": 74,
   "id": "4b70a403-a8ba-44d7-9750-7462ea289c93",
   "metadata": {},
   "outputs": [
    {
     "data": {
      "text/plain": [
       "1234.56"
      ]
     },
     "execution_count": 74,
     "metadata": {},
     "output_type": "execute_result"
    }
   ],
   "source": [
    "float(\"1234.56\")"
   ]
  },
  {
   "cell_type": "code",
   "execution_count": 75,
   "id": "aa973a3c-d6b9-4485-a2b3-2e7fef55654c",
   "metadata": {},
   "outputs": [
    {
     "data": {
      "text/plain": [
       "'-8223'"
      ]
     },
     "execution_count": 75,
     "metadata": {},
     "output_type": "execute_result"
    }
   ],
   "source": [
    "str(123-456-7890)"
   ]
  },
  {
   "cell_type": "code",
   "execution_count": 76,
   "id": "eb74b6e3-1381-47cd-a708-d657e4738f3f",
   "metadata": {},
   "outputs": [
    {
     "data": {
      "text/plain": [
       "'123-456-7890'"
      ]
     },
     "execution_count": 76,
     "metadata": {},
     "output_type": "execute_result"
    }
   ],
   "source": [
    "str(\"123-456-7890\")"
   ]
  },
  {
   "cell_type": "code",
   "execution_count": 77,
   "id": "fdea6bda-218b-4630-9ff5-198c84ddde52",
   "metadata": {},
   "outputs": [
    {
     "data": {
      "text/plain": [
       "'words'"
      ]
     },
     "execution_count": 77,
     "metadata": {},
     "output_type": "execute_result"
    }
   ],
   "source": [
    "str(\"words\")"
   ]
  },
  {
   "cell_type": "code",
   "execution_count": 78,
   "id": "c5d2889a-2d93-493a-9917-e5346b90d9cc",
   "metadata": {},
   "outputs": [
    {
     "data": {
      "text/plain": [
       "'True'"
      ]
     },
     "execution_count": 78,
     "metadata": {},
     "output_type": "execute_result"
    }
   ],
   "source": [
    "str(True)\n",
    "#no inverted commas because True(capital T) is a boolean- so the code is correct"
   ]
  },
  {
   "cell_type": "code",
   "execution_count": 80,
   "id": "03b2e896-2dc3-4c7b-a955-5ae0fcbdaca9",
   "metadata": {},
   "outputs": [
    {
     "data": {
      "text/plain": [
       "'true'"
      ]
     },
     "execution_count": 80,
     "metadata": {},
     "output_type": "execute_result"
    }
   ],
   "source": [
    "str('true')\n",
    "#true is not a boolean (small t) so you have to cast it in inverted comma for string result"
   ]
  },
  {
   "cell_type": "markdown",
   "id": "c28b1b02-3ece-4d83-b240-733075bbd211",
   "metadata": {},
   "source": [
    "~~ma~~"
   ]
  },
  {
   "cell_type": "markdown",
   "id": "42662806-6386-42ce-a3fc-62d89153033d",
   "metadata": {},
   "source": [
    "## Expressions and Variables"
   ]
  },
  {
   "cell_type": "code",
   "execution_count": 83,
   "id": "5180acc9-8194-4ee0-9198-0c1840f46194",
   "metadata": {},
   "outputs": [
    {
     "data": {
      "text/plain": [
       "160"
      ]
     },
     "execution_count": 83,
     "metadata": {},
     "output_type": "execute_result"
    }
   ],
   "source": [
    "#Addition \n",
    "43+60+16+41"
   ]
  },
  {
   "cell_type": "code",
   "execution_count": 85,
   "id": "33d703bc-9806-4e9b-850b-2b1979e3f502",
   "metadata": {},
   "outputs": [
    {
     "data": {
      "text/plain": [
       "-10"
      ]
     },
     "execution_count": 85,
     "metadata": {},
     "output_type": "execute_result"
    }
   ],
   "source": [
    "#subtraction\n",
    "50-60"
   ]
  },
  {
   "cell_type": "code",
   "execution_count": 86,
   "id": "0e068166-3bca-4e8d-b0cf-caf5374362c1",
   "metadata": {},
   "outputs": [
    {
     "data": {
      "text/plain": [
       "25"
      ]
     },
     "execution_count": 86,
     "metadata": {},
     "output_type": "execute_result"
    }
   ],
   "source": [
    "5*5"
   ]
  },
  {
   "cell_type": "code",
   "execution_count": 87,
   "id": "43b4f132-7534-4de5-a69b-e14cb8856c97",
   "metadata": {},
   "outputs": [
    {
     "data": {
      "text/plain": [
       "5.0"
      ]
     },
     "execution_count": 87,
     "metadata": {},
     "output_type": "execute_result"
    }
   ],
   "source": [
    "25/5\n",
    "#a float"
   ]
  },
  {
   "cell_type": "code",
   "execution_count": 88,
   "id": "ba33ca0a-4719-4ab0-92eb-59e96250c19d",
   "metadata": {},
   "outputs": [
    {
     "data": {
      "text/plain": [
       "5"
      ]
     },
     "execution_count": 88,
     "metadata": {},
     "output_type": "execute_result"
    }
   ],
   "source": [
    "25//5\n",
    "#int ans"
   ]
  },
  {
   "cell_type": "code",
   "execution_count": 89,
   "id": "1ce325c7-0121-4eb4-a4e0-55ddaed2d76b",
   "metadata": {},
   "outputs": [
    {
     "data": {
      "text/plain": [
       "2"
      ]
     },
     "execution_count": 89,
     "metadata": {},
     "output_type": "execute_result"
    }
   ],
   "source": [
    "160//60\n",
    "#we want the result in integer, so we use double slash //"
   ]
  },
  {
   "cell_type": "code",
   "execution_count": 92,
   "id": "9f05c17b-daa0-4444-a532-171f8b7f8785",
   "metadata": {},
   "outputs": [
    {
     "name": "stdout",
     "output_type": "stream",
     "text": [
      "10.005\n"
     ]
    }
   ],
   "source": [
    "def convert_grammes_to_Kg(grammes):\n",
    "    Kg=grammes/1000\n",
    "    return Kg\n",
    "print(convert_grammes_to_Kg(10005))"
   ]
  },
  {
   "cell_type": "code",
   "execution_count": 97,
   "id": "ff7118cb-d1ff-46e2-9669-017c9d1156e3",
   "metadata": {},
   "outputs": [
    {
     "name": "stdout",
     "output_type": "stream",
     "text": [
      "2.6666666666666665\n"
     ]
    }
   ],
   "source": [
    "def convert_mins_to_hrs(mins):\n",
    "    hrs=mins/60\n",
    "    return hrs\n",
    "print(convert_mins_to_hrs(160))"
   ]
  },
  {
   "cell_type": "code",
   "execution_count": 98,
   "id": "c5d92cf1-b28d-4847-a529-c96abf7d0efb",
   "metadata": {},
   "outputs": [
    {
     "name": "stdout",
     "output_type": "stream",
     "text": [
      "2\n"
     ]
    }
   ],
   "source": [
    "def convert_mins_to_hrs(mins):\n",
    "    hrs=mins//60\n",
    "    return hrs\n",
    "print(convert_mins_to_hrs(160))\n",
    "#an int ans (double slash)"
   ]
  },
  {
   "cell_type": "code",
   "execution_count": 99,
   "id": "76b71f4d-95cf-4f30-9a35-3067f76cfa87",
   "metadata": {},
   "outputs": [
    {
     "data": {
      "text/plain": [
       "150"
      ]
     },
     "execution_count": 99,
     "metadata": {},
     "output_type": "execute_result"
    }
   ],
   "source": [
    "30+2*60\n",
    "#python understands bodmas, wow!"
   ]
  },
  {
   "cell_type": "markdown",
   "id": "99c15200-ad44-4fb0-8c46-9ff3fe34f990",
   "metadata": {},
   "source": [
    "## Variables"
   ]
  },
  {
   "cell_type": "code",
   "execution_count": 100,
   "id": "8eb45ee8-938b-49b1-bd16-be124ac14742",
   "metadata": {},
   "outputs": [],
   "source": [
    "#we store value into variable\n",
    "x=43+60+41"
   ]
  },
  {
   "cell_type": "code",
   "execution_count": 101,
   "id": "8b4afba7-1268-4caf-8816-1b0ec745418f",
   "metadata": {},
   "outputs": [
    {
     "data": {
      "text/plain": [
       "144"
      ]
     },
     "execution_count": 101,
     "metadata": {},
     "output_type": "execute_result"
    }
   ],
   "source": [
    "x"
   ]
  },
  {
   "cell_type": "code",
   "execution_count": 103,
   "id": "66c06feb-a2a5-4c1c-ae4b-61f303066cc6",
   "metadata": {},
   "outputs": [
    {
     "data": {
      "text/plain": [
       "2.4"
      ]
     },
     "execution_count": 103,
     "metadata": {},
     "output_type": "execute_result"
    }
   ],
   "source": [
    "y=x/60\n",
    "y\n",
    "#i.e., 144/60"
   ]
  },
  {
   "cell_type": "code",
   "execution_count": 104,
   "id": "cff0d3f0-8abb-4e35-b45f-8f5633df08a6",
   "metadata": {},
   "outputs": [
    {
     "data": {
      "text/plain": [
       "2"
      ]
     },
     "execution_count": 104,
     "metadata": {},
     "output_type": "execute_result"
    }
   ],
   "source": [
    "y=x//60\n",
    "y\n",
    "#int result"
   ]
  },
  {
   "cell_type": "code",
   "execution_count": 105,
   "id": "a2cfc702-b80a-4be5-b903-4d7a18fafd2d",
   "metadata": {},
   "outputs": [
    {
     "data": {
      "text/plain": [
       "144"
      ]
     },
     "execution_count": 105,
     "metadata": {},
     "output_type": "execute_result"
    }
   ],
   "source": [
    "#name variable meaningfully\n",
    "total_min=43+60+41\n",
    "total_min"
   ]
  },
  {
   "cell_type": "code",
   "execution_count": 106,
   "id": "f6863fc8-6bd6-43f7-af4f-a2ded46f4098",
   "metadata": {},
   "outputs": [
    {
     "data": {
      "text/plain": [
       "2.4"
      ]
     },
     "execution_count": 106,
     "metadata": {},
     "output_type": "execute_result"
    }
   ],
   "source": [
    "total_hours = total_min/60\n",
    "total_hours"
   ]
  },
  {
   "cell_type": "code",
   "execution_count": 111,
   "id": "03ffe3a2-10ba-4e96-a9a4-49a288d30a8a",
   "metadata": {},
   "outputs": [
    {
     "data": {
      "text/plain": [
       "103.68333333333334"
      ]
     },
     "execution_count": 111,
     "metadata": {},
     "output_type": "execute_result"
    }
   ],
   "source": [
    "total_hours=43+60+41/60\n",
    "total_hours\n",
    "#wrong result.. too complicated"
   ]
  },
  {
   "cell_type": "code",
   "execution_count": 112,
   "id": "b93128d9-c67b-4856-a90c-8e0b8909bdac",
   "metadata": {},
   "outputs": [
    {
     "data": {
      "text/plain": [
       "2.4"
      ]
     },
     "execution_count": 112,
     "metadata": {},
     "output_type": "execute_result"
    }
   ],
   "source": [
    "total_hours=(43+60+41)/60\n",
    "total_hours"
   ]
  },
  {
   "cell_type": "code",
   "execution_count": 113,
   "id": "9a1d1100-4251-4a15-b02a-f780a473e650",
   "metadata": {},
   "outputs": [
    {
     "data": {
      "text/plain": [
       "10"
      ]
     },
     "execution_count": 113,
     "metadata": {},
     "output_type": "execute_result"
    }
   ],
   "source": [
    "30+20-40"
   ]
  },
  {
   "cell_type": "code",
   "execution_count": 115,
   "id": "cd3ff10e-4a42-460d-86b7-ad7f23e1a085",
   "metadata": {},
   "outputs": [
    {
     "data": {
      "text/plain": [
       "5.0"
      ]
     },
     "execution_count": 115,
     "metadata": {},
     "output_type": "execute_result"
    }
   ],
   "source": [
    "(55-5)/10"
   ]
  },
  {
   "cell_type": "code",
   "execution_count": 116,
   "id": "a40683a7-2f9e-44b5-9e96-e831be8e0028",
   "metadata": {},
   "outputs": [
    {
     "data": {
      "text/plain": [
       "5.0"
      ]
     },
     "execution_count": 116,
     "metadata": {},
     "output_type": "execute_result"
    }
   ],
   "source": [
    "6*10/12"
   ]
  },
  {
   "cell_type": "code",
   "execution_count": 118,
   "id": "875fd384-6265-4759-af06-a26d722bf873",
   "metadata": {},
   "outputs": [
    {
     "data": {
      "text/plain": [
       "7"
      ]
     },
     "execution_count": 118,
     "metadata": {},
     "output_type": "execute_result"
    }
   ],
   "source": [
    "x=3+2*2\n",
    "x"
   ]
  },
  {
   "cell_type": "code",
   "execution_count": 119,
   "id": "94f405ae-694b-46ae-a033-820508c536f2",
   "metadata": {},
   "outputs": [
    {
     "data": {
      "text/plain": [
       "10"
      ]
     },
     "execution_count": 119,
     "metadata": {},
     "output_type": "execute_result"
    }
   ],
   "source": [
    "y=(3+2)*2\n",
    "y"
   ]
  },
  {
   "cell_type": "code",
   "execution_count": 120,
   "id": "f5dd034a-61e0-46e2-b0ee-4b3853b6d322",
   "metadata": {},
   "outputs": [
    {
     "data": {
      "text/plain": [
       "17"
      ]
     },
     "execution_count": 120,
     "metadata": {},
     "output_type": "execute_result"
    }
   ],
   "source": [
    "z=x+y\n",
    "z"
   ]
  },
  {
   "cell_type": "code",
   "execution_count": 123,
   "id": "d17c268c-c886-412d-814e-2e6a4701a1c8",
   "metadata": {},
   "outputs": [
    {
     "data": {
      "text/plain": [
       "95"
      ]
     },
     "execution_count": 123,
     "metadata": {},
     "output_type": "execute_result"
    }
   ],
   "source": [
    "a=2*x*x-3\n",
    "a"
   ]
  },
  {
   "cell_type": "markdown",
   "id": "8d889657-ada3-4105-9ae5-0d2b79207dec",
   "metadata": {},
   "source": [
    "## Formatting Strings \n",
    "### string interpolation (f-strings)"
   ]
  },
  {
   "cell_type": "code",
   "execution_count": 125,
   "id": "f85349ca-fc02-4194-ac9f-a9c1861ab0bb",
   "metadata": {},
   "outputs": [
    {
     "name": "stdout",
     "output_type": "stream",
     "text": [
      "My name is John and I am 32 years old.\n"
     ]
    }
   ],
   "source": [
    "#the f is a prefix of the string and use curly braces {} to enclose variables to be formatted\n",
    "name=\"John\"\n",
    "age=32\n",
    "print(f\"My name is {name} and I am {age} years old.\")"
   ]
  },
  {
   "cell_type": "code",
   "execution_count": 128,
   "id": "a32054d1-8b5b-4da5-8316-5dec4408f294",
   "metadata": {},
   "outputs": [
    {
     "name": "stdout",
     "output_type": "stream",
     "text": [
      "My name is John and I am 32 years old.\n"
     ]
    }
   ],
   "source": [
    "name=\"John\"\n",
    "age=32\n",
    "print(f\"My name is {name} and I am {age} years old.\")"
   ]
  },
  {
   "cell_type": "code",
   "execution_count": 129,
   "id": "aaf0b5fb-83ce-498e-bbe3-608c17068f17",
   "metadata": {},
   "outputs": [
    {
     "name": "stdout",
     "output_type": "stream",
     "text": [
      "My name is John and I am 32 years old.\n"
     ]
    }
   ],
   "source": [
    "print(\"My name is %s and I am %d years old.\" %(name,age))"
   ]
  },
  {
   "cell_type": "code",
   "execution_count": 130,
   "id": "50e5c8e8-0a27-4b20-8065-3651b073156b",
   "metadata": {},
   "outputs": [
    {
     "name": "stdout",
     "output_type": "stream",
     "text": [
      "The sum of x and y = 8.\n"
     ]
    }
   ],
   "source": [
    "x=4\n",
    "y=4\n",
    "print(f\"The sum of x and y = {x+y}.\")"
   ]
  },
  {
   "cell_type": "code",
   "execution_count": 131,
   "id": "05709513-b353-420f-acf1-bacfa8f7f9e3",
   "metadata": {},
   "outputs": [
    {
     "name": "stdout",
     "output_type": "stream",
     "text": [
      "Regular String: C:\n",
      "ew_folder\f",
      "ile.txt\n"
     ]
    }
   ],
   "source": [
    "regular_string=\"C:\\new_folder\\file.txt\"\n",
    "print(\"Regular String:\", regular_string)\n",
    "#regular string treats backslashes (\\) (\\n) as escape sequence, a new line character formed leading to invalid path"
   ]
  },
  {
   "cell_type": "code",
   "execution_count": 132,
   "id": "be023acf-0117-4c51-98a7-aabe732a76c9",
   "metadata": {},
   "outputs": [
    {
     "name": "stdout",
     "output_type": "stream",
     "text": [
      "Raw String: C:\\new_folder\\file.txt\n"
     ]
    }
   ],
   "source": [
    "raw_string=r\"C:\\new_folder\\file.txt\"\n",
    "print(\"Raw String:\", raw_string)\n",
    "#raw string contains the prefix r before the string, meaning the string is treated as literal characters rather than an escape sequence. the output will produce unchanged characters."
   ]
  },
  {
   "cell_type": "code",
   "execution_count": 136,
   "id": "db19bf57-2320-4912-9109-3327ea346894",
   "metadata": {},
   "outputs": [
    {
     "name": "stdout",
     "output_type": "stream",
     "text": [
      "FM= C:\\new_folder\\file.txt\n"
     ]
    }
   ],
   "source": [
    "raw_string=r\"C:\\new_folder\\file.txt\"\n",
    "print(\"FM=\",raw_string)"
   ]
  },
  {
   "cell_type": "markdown",
   "id": "ad50f07d-a1ff-4884-9b73-840eb221c384",
   "metadata": {},
   "source": [
    "### what are Strings?"
   ]
  },
  {
   "cell_type": "code",
   "execution_count": 137,
   "id": "52071d5c-00e9-4f8a-9c2d-afc6882045f0",
   "metadata": {},
   "outputs": [
    {
     "data": {
      "text/plain": [
       "'The Bodyguard'"
      ]
     },
     "execution_count": 137,
     "metadata": {},
     "output_type": "execute_result"
    }
   ],
   "source": [
    "#we use quotation marks for string (double or single), but we can't use both double and single quotations marks. \n",
    "\"The Bodyguard\""
   ]
  },
  {
   "cell_type": "code",
   "execution_count": 138,
   "id": "51dea682-c9fe-4f45-af46-7101b599170c",
   "metadata": {},
   "outputs": [
    {
     "data": {
      "text/plain": [
       "'The master'"
      ]
     },
     "execution_count": 138,
     "metadata": {},
     "output_type": "execute_result"
    }
   ],
   "source": [
    "'The master'"
   ]
  },
  {
   "cell_type": "code",
   "execution_count": 139,
   "id": "1cd3190a-df44-46c0-8e7e-18507d6b17f1",
   "metadata": {},
   "outputs": [
    {
     "data": {
      "text/plain": [
       "'1234 456 67'"
      ]
     },
     "execution_count": 139,
     "metadata": {},
     "output_type": "execute_result"
    }
   ],
   "source": [
    "#Strings can be combination of spaces and digits\n",
    "\"1234 456 67\""
   ]
  },
  {
   "cell_type": "code",
   "execution_count": 140,
   "id": "b36ff3f9-5d86-4f3b-9d70-5397d25ee1a7",
   "metadata": {},
   "outputs": [
    {
     "data": {
      "text/plain": [
       "'%$^^&^&^%$%^&%$£\"$%%%**&&^%$@'"
      ]
     },
     "execution_count": 140,
     "metadata": {},
     "output_type": "execute_result"
    }
   ],
   "source": [
    "#combinations of special characters\n",
    "'%$^^&^&^%$%^&%$£\"$%%%**&&^%$@'"
   ]
  },
  {
   "cell_type": "code",
   "execution_count": 141,
   "id": "77032426-e1c9-4a72-9544-f5a32f80c190",
   "metadata": {},
   "outputs": [
    {
     "name": "stdout",
     "output_type": "stream",
     "text": [
      "The Bodyguard\n"
     ]
    }
   ],
   "source": [
    "#strings can be printed using the print statement\n",
    "print(\"The Bodyguard\")"
   ]
  },
  {
   "cell_type": "code",
   "execution_count": 143,
   "id": "47e5ca59-eef3-483e-9b3a-122dc033450b",
   "metadata": {},
   "outputs": [
    {
     "data": {
      "text/plain": [
       "'Oluwafemi'"
      ]
     },
     "execution_count": 143,
     "metadata": {},
     "output_type": "execute_result"
    }
   ],
   "source": [
    "#We can bind or assign strings to another variable\n",
    "name=\"Oluwafemi\"\n",
    "name"
   ]
  },
  {
   "cell_type": "code",
   "execution_count": 145,
   "id": "1fa8f6b8-bbc6-4e72-b4a0-bf67d1182a0e",
   "metadata": {},
   "outputs": [
    {
     "name": "stdout",
     "output_type": "stream",
     "text": [
      "Oluwafemi\n"
     ]
    }
   ],
   "source": [
    "print(name)"
   ]
  },
  {
   "cell_type": "markdown",
   "id": "e3f862d9-19ae-47d6-a959-a4ff9c800b03",
   "metadata": {},
   "source": [
    "### indexing"
   ]
  },
  {
   "cell_type": "markdown",
   "id": "b22a9435-9c9d-418c-a7d9-45629291fdd5",
   "metadata": {},
   "source": [
    "<img src=\"https://cf-courses-data.s3.us.cloud-object-storage.appdomain.cloud/xwKqWxQWBL47h718d3BLzw/IMG1.png\" width=\"600\" align=\"center\">"
   ]
  },
  {
   "cell_type": "code",
   "execution_count": null,
   "id": "5496adae-d5e6-4d1b-ac98-ce6e904d3a8b",
   "metadata": {},
   "outputs": [],
   "source": [
    "Name=\"The BodyGuard\""
   ]
  },
  {
   "cell_type": "code",
   "execution_count": 160,
   "id": "a3d823a1-2483-4416-8ecf-c0e50d0fee7c",
   "metadata": {},
   "outputs": [
    {
     "name": "stdout",
     "output_type": "stream",
     "text": [
      "T\n"
     ]
    }
   ],
   "source": [
    "#The first index can be assesed. e.g., print the first element in the string\n",
    "Name=\"The BodyGuard\"\n",
    "print(Name[0])\n",
    "#remember we use the square bracket [] to search. "
   ]
  },
  {
   "cell_type": "code",
   "execution_count": 162,
   "id": "a1cecf27-9229-4e3d-bfa7-a5b25f6257f3",
   "metadata": {},
   "outputs": [
    {
     "data": {
      "text/plain": [
       "'a'"
      ]
     },
     "execution_count": 162,
     "metadata": {},
     "output_type": "execute_result"
    }
   ],
   "source": [
    "Name[10]"
   ]
  },
  {
   "cell_type": "code",
   "execution_count": 151,
   "id": "2aeaa942-aea1-4527-a422-5034cefecf10",
   "metadata": {},
   "outputs": [],
   "source": [
    "#negative numbers can also be assigned and use to fetch element in the string"
   ]
  },
  {
   "cell_type": "code",
   "execution_count": 152,
   "id": "68618c25-e9cd-42c1-bd1e-a7a6b2bd926e",
   "metadata": {},
   "outputs": [
    {
     "name": "stdout",
     "output_type": "stream",
     "text": [
      "13\n"
     ]
    }
   ],
   "source": [
    "print(len(\"The Bodyguard\"))"
   ]
  },
  {
   "cell_type": "markdown",
   "id": "3d862cba-ae22-464c-ab60-148b1e731b8e",
   "metadata": {},
   "source": [
    "### Slicing"
   ]
  },
  {
   "cell_type": "code",
   "execution_count": 154,
   "id": "da3ee11f-f76a-4e9a-b7fc-aeaab07bd450",
   "metadata": {},
   "outputs": [
    {
     "data": {
      "text/plain": [
       "'The '"
      ]
     },
     "execution_count": 154,
     "metadata": {},
     "output_type": "execute_result"
    }
   ],
   "source": [
    "#multiple characters can be obtained from a string using slicing e.g., [0:4] means from 0 to 4 (0,1,2,3,4) and [8:12] means [8,9,10,11,12]\n",
    "Name = \"The BodyGuard\"\n",
    "Name[0:4]\n",
    "#note the 4th character is a space and the first character 'T' is number 0"
   ]
  },
  {
   "cell_type": "code",
   "execution_count": 156,
   "id": "10eddc2c-4627-4210-91be-9daba5b1a413",
   "metadata": {},
   "outputs": [
    {
     "name": "stdout",
     "output_type": "stream",
     "text": [
      "Guar\n"
     ]
    }
   ],
   "source": [
    "print(Name[8:12])"
   ]
  },
  {
   "cell_type": "markdown",
   "id": "7240f460-1789-4eb5-9bdf-992ed033a50b",
   "metadata": {},
   "source": [
    "### Stride"
   ]
  },
  {
   "cell_type": "code",
   "execution_count": 163,
   "id": "2a81e72f-6cb0-4122-b652-0928b7590508",
   "metadata": {},
   "outputs": [
    {
     "data": {
      "text/plain": [
       "'TeBdGad'"
      ]
     },
     "execution_count": 163,
     "metadata": {},
     "output_type": "execute_result"
    }
   ],
   "source": [
    "#stride value can be input e.g., 2 indicate that we are selecting every second character of the string. note that space is a character\n",
    "Name = \"The BodyGuard\"\n",
    "Name[::2]"
   ]
  },
  {
   "cell_type": "code",
   "execution_count": 165,
   "id": "ce4f086f-13c6-432a-aff2-c2532be73be0",
   "metadata": {},
   "outputs": [
    {
     "name": "stdout",
     "output_type": "stream",
     "text": [
      "TeBdGad\n"
     ]
    }
   ],
   "source": [
    "print(Name[::2])"
   ]
  },
  {
   "cell_type": "code",
   "execution_count": 166,
   "id": "38cfcd15-6d05-4fb2-8ab5-5710d32d90bf",
   "metadata": {},
   "outputs": [
    {
     "data": {
      "text/plain": [
       "'TeB'"
      ]
     },
     "execution_count": 166,
     "metadata": {},
     "output_type": "execute_result"
    }
   ],
   "source": [
    "#slicing can be incorporated with stride\n",
    "Name[0:5:2]"
   ]
  },
  {
   "cell_type": "code",
   "execution_count": 167,
   "id": "b3e1034f-bb80-47b8-9aeb-51080dafbc53",
   "metadata": {},
   "outputs": [
    {
     "name": "stdout",
     "output_type": "stream",
     "text": [
      "eoGr\n"
     ]
    }
   ],
   "source": [
    "print(Name[2:12:3])"
   ]
  },
  {
   "cell_type": "markdown",
   "id": "2feb4099-c937-4469-a675-250421920c19",
   "metadata": {},
   "source": [
    "### Concantenate Strings"
   ]
  },
  {
   "cell_type": "code",
   "execution_count": 169,
   "id": "166770e4-4223-4504-8844-78a202674436",
   "metadata": {},
   "outputs": [
    {
     "data": {
      "text/plain": [
       "'The BodyGuardis the best movie'"
      ]
     },
     "execution_count": 169,
     "metadata": {},
     "output_type": "execute_result"
    }
   ],
   "source": [
    "#we use the + sign to concatenate strings together\n",
    "statement=Name+\"is the best movie\"\n",
    "statement "
   ]
  },
  {
   "cell_type": "code",
   "execution_count": 171,
   "id": "25b2d08c-d6e8-477d-a1fb-a0fcabab4990",
   "metadata": {},
   "outputs": [
    {
     "data": {
      "text/plain": [
       "'The BodyGuard is the best album'"
      ]
     },
     "execution_count": 171,
     "metadata": {},
     "output_type": "execute_result"
    }
   ],
   "source": [
    "#the output above gave grammatical error...there should be space to separate Bodyguard and is. fix it by adding space in the code\n",
    "statement=Name+\" is the best album\"\n",
    "statement "
   ]
  },
  {
   "cell_type": "code",
   "execution_count": 175,
   "id": "7e2c9164-fe12-4ed6-8653-f410a7bbb2d9",
   "metadata": {},
   "outputs": [
    {
     "data": {
      "text/plain": [
       "'Name is the best movie'"
      ]
     },
     "execution_count": 175,
     "metadata": {},
     "output_type": "execute_result"
    }
   ],
   "source": [
    "statement=\"Name\"  +\" is the best movie\"\n",
    "statement \n",
    "#below, Name is printed and not \"The BodyGuard\" because python see it as a new string rather than variable. variable has no quotations. fix it by removing the quotation marks because the variable already contain string"
   ]
  },
  {
   "cell_type": "code",
   "execution_count": 176,
   "id": "80cd7b2b-568c-4b05-a88c-16ba0a2378c3",
   "metadata": {},
   "outputs": [
    {
     "data": {
      "text/plain": [
       "'The BodyGuard is the best movie'"
      ]
     },
     "execution_count": 176,
     "metadata": {},
     "output_type": "execute_result"
    }
   ],
   "source": [
    "statement=Name+\" is the best movie\"\n",
    "# Concantenate a variable and a string\n",
    "statement"
   ]
  },
  {
   "cell_type": "code",
   "execution_count": 178,
   "id": "2b0ed172-a808-430f-b64e-4938fdb0e7b2",
   "metadata": {},
   "outputs": [
    {
     "name": "stdout",
     "output_type": "stream",
     "text": [
      "Oluwafemi Busayo Awe\n"
     ]
    }
   ],
   "source": [
    "Name=\"Oluwafemi\" + \" Busayo\" + \" Awe\"\n",
    "print(Name)"
   ]
  },
  {
   "cell_type": "code",
   "execution_count": 180,
   "id": "6cadfde8-3b7f-445b-a398-8d5a234f6a7b",
   "metadata": {},
   "outputs": [
    {
     "data": {
      "text/plain": [
       "'Oluwafemi Busayo AweOluwafemi Busayo AweOluwafemi Busayo Awe'"
      ]
     },
     "execution_count": 180,
     "metadata": {},
     "output_type": "execute_result"
    }
   ],
   "source": [
    "3 * Name"
   ]
  },
  {
   "cell_type": "code",
   "execution_count": 181,
   "id": "76370181-0efe-4fe3-89c5-12186d9c2582",
   "metadata": {},
   "outputs": [
    {
     "data": {
      "text/plain": [
       "'Oluwafemi Busayo AweOluwafemi Busayo AweOluwafemi Busayo Awe'"
      ]
     },
     "execution_count": 181,
     "metadata": {},
     "output_type": "execute_result"
    }
   ],
   "source": [
    "Name*3"
   ]
  },
  {
   "cell_type": "code",
   "execution_count": 182,
   "id": "599bb686-2b65-4c84-a99d-149258cee2d7",
   "metadata": {},
   "outputs": [
    {
     "data": {
      "text/plain": [
       "'The BodyGuard is the best movieThe BodyGuard is the best movieThe BodyGuard is the best movieThe BodyGuard is the best movieThe BodyGuard is the best movie'"
      ]
     },
     "execution_count": 182,
     "metadata": {},
     "output_type": "execute_result"
    }
   ],
   "source": [
    "5*statement"
   ]
  },
  {
   "cell_type": "code",
   "execution_count": 183,
   "id": "5bb5a5e3-cbfc-467f-99f3-b77c3fcc7cfa",
   "metadata": {},
   "outputs": [
    {
     "data": {
      "text/plain": [
       "'Awe Oluwafemi Busayo'"
      ]
     },
     "execution_count": 183,
     "metadata": {},
     "output_type": "execute_result"
    }
   ],
   "source": [
    "name = \"Awe Oluwafemi\"\n",
    "name=name + \" Busayo\"\n",
    "name\n",
    "#same variable assigned use to concantenate"
   ]
  },
  {
   "cell_type": "markdown",
   "id": "499a6a24-0caf-4510-b6bc-7b1423c14267",
   "metadata": {},
   "source": [
    "### Escape sequences"
   ]
  },
  {
   "cell_type": "code",
   "execution_count": 184,
   "id": "a0c96998-a325-478b-91ae-672322d27dae",
   "metadata": {},
   "outputs": [
    {
     "name": "stdout",
     "output_type": "stream",
     "text": [
      " The BodyGuard\n",
      " is the best album\n"
     ]
    }
   ],
   "source": [
    "#Backslahes represent the beginning of an escape sequence resulting to writing in new line\n",
    "#\\n result into new line when it is encountered\n",
    "#\\t result creates a tab\n",
    "#\\\\ creates a backslash\n",
    "print(\" The BodyGuard\\n is the best album\")"
   ]
  },
  {
   "cell_type": "code",
   "execution_count": 187,
   "id": "68307d5a-9fe2-4609-b24a-8e5895f2142d",
   "metadata": {},
   "outputs": [
    {
     "data": {
      "text/plain": [
       "' The BodyGuard\\n is the best album'"
      ]
     },
     "execution_count": 187,
     "metadata": {},
     "output_type": "execute_result"
    }
   ],
   "source": [
    "statement=\" The BodyGuard\\n is the best album\"\n",
    "statement\n",
    "#not applicable to variable case"
   ]
  },
  {
   "cell_type": "code",
   "execution_count": 188,
   "id": "00106b29-5be3-4558-b950-77c62020d439",
   "metadata": {},
   "outputs": [
    {
     "data": {
      "text/plain": [
       "' The BodyGuard\\n is the best album'"
      ]
     },
     "execution_count": 188,
     "metadata": {},
     "output_type": "execute_result"
    }
   ],
   "source": [
    "\" The BodyGuard\\n is the best album\"\n",
    "#not applicable"
   ]
  },
  {
   "cell_type": "code",
   "execution_count": 189,
   "id": "cce7a2d9-de34-4c74-8284-a96854424a56",
   "metadata": {},
   "outputs": [
    {
     "name": "stdout",
     "output_type": "stream",
     "text": [
      " The BodyGuard\n",
      " is the best album\n"
     ]
    }
   ],
   "source": [
    "print(\" The BodyGuard\\n is the best album\")\n",
    "#conclusion: It is only applicable to the print function."
   ]
  },
  {
   "cell_type": "code",
   "execution_count": 190,
   "id": "411bd4e0-ce68-4da7-9dfb-3023894f727f",
   "metadata": {},
   "outputs": [
    {
     "name": "stdout",
     "output_type": "stream",
     "text": [
      " The BodyGuard\n",
      " is the best album\n"
     ]
    }
   ],
   "source": [
    "a=(\" The BodyGuard\\n is the best album\")\n",
    "print(a)\n",
    "#applicable"
   ]
  },
  {
   "cell_type": "code",
   "execution_count": 191,
   "id": "2806f945-78ec-4151-b5c8-2eca22834e08",
   "metadata": {},
   "outputs": [
    {
     "name": "stdout",
     "output_type": "stream",
     "text": [
      " The BodyGuard\t is the best album\n"
     ]
    }
   ],
   "source": [
    "print(\" The BodyGuard\\t is the best album\")\n",
    "#the \\t induces a tab"
   ]
  },
  {
   "cell_type": "code",
   "execution_count": 192,
   "id": "5b43a1e2-b36f-4010-ad0d-a289c1e8da9e",
   "metadata": {},
   "outputs": [
    {
     "name": "stdout",
     "output_type": "stream",
     "text": [
      " The BodyGuard\\ is the best album\n"
     ]
    }
   ],
   "source": [
    "print(\" The BodyGuard\\\\ is the best album\")\n",
    "# \\\\ creates a backslash"
   ]
  },
  {
   "cell_type": "code",
   "execution_count": 196,
   "id": "ea037ce4-c2cd-4be7-b260-79e78fc5ba15",
   "metadata": {},
   "outputs": [
    {
     "name": "stdout",
     "output_type": "stream",
     "text": [
      " The BodyGuard\\n is the best album\n"
     ]
    }
   ],
   "source": [
    "print(r\" The BodyGuard\\n is the best album\")\n",
    "#prefix r before string tells python it is raw. so the string is printed as literral characters-no changes"
   ]
  },
  {
   "cell_type": "code",
   "execution_count": 195,
   "id": "0a3f8fd8-408f-49f6-b96f-77dcaf23aff0",
   "metadata": {},
   "outputs": [
    {
     "name": "stdout",
     "output_type": "stream",
     "text": [
      " The BodyGuard\\\\ is the best album\n"
     ]
    }
   ],
   "source": [
    "print(r\" The BodyGuard\\\\ is the best album\")"
   ]
  },
  {
   "cell_type": "markdown",
   "id": "df1e47e7-20e3-44f3-a525-2b12c06dfc07",
   "metadata": {},
   "source": [
    "### String Manipulation Operations"
   ]
  },
  {
   "cell_type": "code",
   "execution_count": 2,
   "id": "e00bd0d5-fdd4-423c-99a5-ed974ec7ea49",
   "metadata": {},
   "outputs": [
    {
     "name": "stdout",
     "output_type": "stream",
     "text": [
      "before upper: Thrilller is the sixth studio album\n"
     ]
    }
   ],
   "source": [
    "a=\"Thrilller is the sixth studio album\"\n",
    "print(\"before upper:\", a)\n",
    "#This is before upper use\n",
    "#formula: variable.upper()"
   ]
  },
  {
   "cell_type": "code",
   "execution_count": 10,
   "id": "ad5e8102-f78f-4aa9-a364-6be31688b8ea",
   "metadata": {},
   "outputs": [
    {
     "name": "stdout",
     "output_type": "stream",
     "text": [
      "the thriller album is spontaneous\n"
     ]
    }
   ],
   "source": [
    "a=\"THE THRILLER ALBUM IS SPONTANEOUS\"\n",
    "print(a.lower())\n",
    "#The lower method change the uppercase characters to lower case"
   ]
  },
  {
   "cell_type": "code",
   "execution_count": 3,
   "id": "24a3e72a-dad2-468c-a6e2-7cdf71599b2e",
   "metadata": {},
   "outputs": [
    {
     "name": "stdout",
     "output_type": "stream",
     "text": [
      "After upper: THRILLLER IS THE SIXTH STUDIO ALBUM\n"
     ]
    }
   ],
   "source": [
    "#now let's use upper to turn the above statement to upper case characters\n",
    "b = a.upper()\n",
    "print(\"After upper:\", b)"
   ]
  },
  {
   "cell_type": "code",
   "execution_count": 4,
   "id": "80d0fd66-5a2b-4ae5-98eb-0b6b1d92eeca",
   "metadata": {},
   "outputs": [
    {
     "name": "stdout",
     "output_type": "stream",
     "text": [
      "STATEMENT OF PURPOSE TO NEW YORK UNIVERSITY\n"
     ]
    }
   ],
   "source": [
    "SOP=\"Statement of purpose to New York University\"\n",
    "print(SOP.upper())"
   ]
  },
  {
   "cell_type": "code",
   "execution_count": 5,
   "id": "cb03db2c-fb17-4c46-b277-7bd17c44ef92",
   "metadata": {},
   "outputs": [
    {
     "data": {
      "text/plain": [
       "'THE BOY IS CUTE'"
      ]
     },
     "execution_count": 5,
     "metadata": {},
     "output_type": "execute_result"
    }
   ],
   "source": [
    "\"The boy is cute\".upper()"
   ]
  },
  {
   "cell_type": "code",
   "execution_count": 7,
   "id": "cdc37f15-1310-4780-8425-ebbef645f00e",
   "metadata": {},
   "outputs": [
    {
     "name": "stdout",
     "output_type": "stream",
     "text": [
      "The Evolve album is one of their greatest\n"
     ]
    }
   ],
   "source": [
    "#The replace method replaces substring with a new string. \n",
    "conclusion=\"The LOOM album is one of their greatest\"\n",
    "print(conclusion.replace(\"LOOM\", \"Evolve\"))\n",
    "#it replaces LOOM with Evolve)\n",
    "#formula: variable.replace(substring, new_string) or \"string\".replace(substring, new_string)"
   ]
  },
  {
   "cell_type": "code",
   "execution_count": 8,
   "id": "432d39ab-94f3-4aa8-8720-32b9bd37ba87",
   "metadata": {},
   "outputs": [
    {
     "data": {
      "text/plain": [
       "'The Night Vision album is one of their greatest'"
      ]
     },
     "execution_count": 8,
     "metadata": {},
     "output_type": "execute_result"
    }
   ],
   "source": [
    "\"The LOOM album is one of their greatest\".replace(\"LOOM\", \"Night Vision\")"
   ]
  },
  {
   "cell_type": "code",
   "execution_count": 9,
   "id": "153fd989-be8b-4a11-96fa-902dd3920aeb",
   "metadata": {},
   "outputs": [
    {
     "data": {
      "text/plain": [
       "4"
      ]
     },
     "execution_count": 9,
     "metadata": {},
     "output_type": "execute_result"
    }
   ],
   "source": [
    "#The method 'find' finds a sub-string\n",
    "a=\"The LOOM album is one of their greatest\"\n",
    "a.find(\"LOOM\")\n",
    "#The argument is the sub-string and the outcome is the first index of the sequence\n",
    "#formula= variable.find(sub-string)"
   ]
  },
  {
   "cell_type": "code",
   "execution_count": 11,
   "id": "0e332180-d245-4aba-bc9f-2cc3a11ee8e1",
   "metadata": {},
   "outputs": [
    {
     "data": {
      "text/plain": [
       "31"
      ]
     },
     "execution_count": 11,
     "metadata": {},
     "output_type": "execute_result"
    }
   ],
   "source": [
    "\"The LOOM album is one of their greatest\".find(\"greatest\")"
   ]
  },
  {
   "cell_type": "code",
   "execution_count": 13,
   "id": "cfb224de-2f12-4688-8d30-9d967058eb1e",
   "metadata": {},
   "outputs": [
    {
     "data": {
      "text/plain": [
       "-1"
      ]
     },
     "execution_count": 13,
     "metadata": {},
     "output_type": "execute_result"
    }
   ],
   "source": [
    "#it gives out a negative one (-1) if the sub-string is not in the string\n",
    "\"The LOOM album is one of their greatest\".find(\"strongest\")"
   ]
  },
  {
   "cell_type": "code",
   "execution_count": 14,
   "id": "3537ed89-9e0d-4314-8a36-d65e0db060cc",
   "metadata": {},
   "outputs": [
    {
     "name": "stdout",
     "output_type": "stream",
     "text": [
      "['The', 'Thriller']\n"
     ]
    }
   ],
   "source": [
    "#the method 'split' splits the string at the specified separator and return a list \n",
    "# formula= string or variable.split(separator, maxsplit) THE SEPARTOR AND MAXSPLIT ARE OPTIONAL\n",
    "name=\"The Thriller\"\n",
    "print(name.split())"
   ]
  },
  {
   "cell_type": "code",
   "execution_count": 27,
   "id": "27c8ba9b-d339-4d97-925f-753f95b3d6c7",
   "metadata": {},
   "outputs": [
    {
     "data": {
      "text/plain": [
       "['The LOOM album', ' is one of their greatest', ' and strongest']"
      ]
     },
     "execution_count": 27,
     "metadata": {},
     "output_type": "execute_result"
    }
   ],
   "source": [
    "\"The LOOM album, is one of their greatest, and strongest\".split(',')"
   ]
  },
  {
   "cell_type": "markdown",
   "id": "50a5b1f6-f62e-4ee1-a291-1ea53c703bfb",
   "metadata": {},
   "source": [
    "### RegEx (Regular Expression)"
   ]
  },
  {
   "cell_type": "code",
   "execution_count": 29,
   "id": "d541804c-064d-4d55-bf53-8fdb54cb7c6c",
   "metadata": {},
   "outputs": [],
   "source": [
    "#first import re module\n",
    "import re"
   ]
  },
  {
   "cell_type": "code",
   "execution_count": 31,
   "id": "a3b722fa-a6ff-4e58-a434-5d5dea6fe7e1",
   "metadata": {},
   "outputs": [
    {
     "name": "stdout",
     "output_type": "stream",
     "text": [
      "Match found\n"
     ]
    }
   ],
   "source": [
    "#The search function search() searches for a specified pattern within a string. for example\n",
    "pattern=r\"Body\"\n",
    "string=\"The BodyGuard is the best album\"\n",
    "#use the search() to search for the pattern\n",
    "result = re.search(pattern, string)\n",
    "#to check if there is a match\n",
    "if result:\n",
    "    print(\"Match found\")\n",
    "else:\n",
    "    print(\"Match not found\")"
   ]
  },
  {
   "cell_type": "markdown",
   "id": "d0e842b0-415a-40d0-ba8d-cc074973dedf",
   "metadata": {},
   "source": [
    "| Special Sequence | Meaning                 | \tExample             |\n",
    "| -----------  | ----------------------- | ----------------------|\n",
    "| \\d|Matches any digit character (0-9)|\"123\" matches \"\\d\\d\\d\"|\n",
    "|\\D|Matches any non-digit character|\"hello\" matches \"\\D\\D\\D\\D\\D\"|\n",
    "|\\w|Matches any word character (a-z, A-Z, 0-9, and _)|\"hello_world\" matches \"\\w\\w\\w\\w\\w\\w\\w\\w\\w\\w\\w\"|\n",
    "|\\W|Matches any non-word character|\t\"@#$%\" matches \"\\W\\W\\W\\W\"|\n",
    "|\\s|Matches any whitespace character (space, tab, newline, etc.)|\"hello world\" matches \"\\w\\w\\w\\w\\w\\s\\w\\w\\w\\w\\w\"|\n",
    "|\\S|Matches any non-whitespace character|\"hello_world\" matches \"\\S\\S\\S\\S\\S\\S\\S\\S\\S\\S\\S\"|\n",
    "|\\b|Matches the boundary between a word character and a non-word character|\"cat\" matches \"\\bcat\\b\" in \"The cat sat on the mat\"|\n",
    "|\\B|Matches any position that is not a word boundary|\"cat\" matches \"\\Bcat\\B\" in \"category\" but not in \"The cat sat on the mat\"|"
   ]
  },
  {
   "cell_type": "code",
   "execution_count": 33,
   "id": "c8ce47a4-087a-41dd-b7d2-d12c829d493d",
   "metadata": {},
   "outputs": [
    {
     "name": "stdout",
     "output_type": "stream",
     "text": [
      "It's a match 1234567890\n"
     ]
    }
   ],
   "source": [
    "pattern=r\"\\d\\d\\d\\d\\d\\d\\d\\d\\d\\d\"\n",
    "statement=\"My contact details is 1234567890\"\n",
    "check=re.search(pattern,statement)\n",
    "if check:\n",
    "    print(\"It's a match\", check.group())\n",
    "else:\n",
    "    print(\"No match\")\n",
    "#The variable.group() function is used to retrieve the string part that matches. below is the number printed which match. "
   ]
  },
  {
   "cell_type": "code",
   "execution_count": 38,
   "id": "ecf768c4-73c1-461f-a87b-2aac29829848",
   "metadata": {},
   "outputs": [
    {
     "name": "stdout",
     "output_type": "stream",
     "text": [
      "Match found= Oluwafemi Busayo Awe\n"
     ]
    }
   ],
   "source": [
    "name=\"Oluwafemi Busayo Awe\"\n",
    "pattern=r\"\\w\\w\\w\\w\\w\\w\\w\\w\\w\\s\\w\\w\\w\\w\\w\\w\\s\\w\\w\\w\"\n",
    "result=re.search(pattern,name)\n",
    "if result:\n",
    "    print(\"Match found=\", result.group())\n",
    "else:\n",
    "    print(\"No match found\")"
   ]
  },
  {
   "cell_type": "code",
   "execution_count": 39,
   "id": "2c19fb2c-c4d7-4536-ae2e-b474e7e72031",
   "metadata": {},
   "outputs": [
    {
     "name": "stdout",
     "output_type": "stream",
     "text": [
      "No match found\n"
     ]
    }
   ],
   "source": [
    "name=\"Oluwafemi Busayo Awe\"\n",
    "pattern=r\"\\w\\w\\w\\w\\w\\w\\w\\w\\w\\d\\w\\w\\w\\w\\w\\w\\s\\w\\w\\w\"\n",
    "result=re.search(pattern,name)\n",
    "if result:\n",
    "    print(\"Match found=\", result.group())\n",
    "else:\n",
    "    print(\"No match found\")\n",
    "    #no match would be printed because no digit \\d in the string"
   ]
  },
  {
   "cell_type": "code",
   "execution_count": 41,
   "id": "64b5a37e-fecc-4428-96fa-fb943c77c792",
   "metadata": {},
   "outputs": [
    {
     "name": "stdout",
     "output_type": "stream",
     "text": [
      "Match found= a\n"
     ]
    }
   ],
   "source": [
    "name=\"Oluwafemi Busayo Awe\"\n",
    "pattern=r\"\\w\\w\\w\\w\\w\\w\\w\\w\\w\\d\\w\\w\\w\\w\\w\\w\\s\\w\\w\\w\"\n",
    "result=re.search(\"a\",name)\n",
    "if result:\n",
    "    print(\"Match found=\", result.group())\n",
    "else:\n",
    "    print(\"No match found\")"
   ]
  },
  {
   "cell_type": "code",
   "execution_count": 43,
   "id": "ced256a6-9b90-4673-96d1-f2462938d94a",
   "metadata": {},
   "outputs": [
    {
     "name": "stdout",
     "output_type": "stream",
     "text": [
      "['the', 'the']\n"
     ]
    }
   ],
   "source": [
    "#The findall() function finds all occurrencies of a specified pattern within a string\n",
    "Note=\"the LOOM is the best album\"\n",
    "answer=re.findall(\"the\", Note)\n",
    "print(answer)"
   ]
  },
  {
   "cell_type": "code",
   "execution_count": 44,
   "id": "fd40a625-29f3-4725-948c-c1c301236d39",
   "metadata": {},
   "outputs": [
    {
     "name": "stdout",
     "output_type": "stream",
     "text": [
      "['st', 'st']\n"
     ]
    }
   ],
   "source": [
    "s2 = \"The BodyGuard is the best album of 'Whitney Houston'.\"\n",
    "\n",
    "# Use the findall() function to find all occurrences of the \"st\" in the string\n",
    "result = re.findall(\"st\", s2)\n",
    "\n",
    "# Print out the list of matched words\n",
    "print(result)"
   ]
  },
  {
   "cell_type": "code",
   "execution_count": 47,
   "id": "52b8d315-cff3-4f29-b496-267319f0c492",
   "metadata": {},
   "outputs": [
    {
     "name": "stdout",
     "output_type": "stream",
     "text": [
      "['The', 'BodyGuard', 'is', 'the', 'best', 'album', 'of', \"'Whitney\", \"Houston'.\"]\n"
     ]
    }
   ],
   "source": [
    "#the split() function splits a string into array of substrings based on a specified pattern\n",
    "result=re.split(r\"\\s\", s2)\n",
    "print(result)\n",
    "#it split the string into substring based on space (\\s) which is the specified pattern"
   ]
  },
  {
   "cell_type": "code",
   "execution_count": 50,
   "id": "d52087bb-0045-4dae-86f6-aabdd78dbcc4",
   "metadata": {},
   "outputs": [
    {
     "name": "stdout",
     "output_type": "stream",
     "text": [
      "I'm Oluwafemi Busayo Awe, a graduate of Biochemistry(BCH) from the University of Portsmouth. I can restructured the protein sequences using pyMOL\n"
     ]
    }
   ],
   "source": [
    "details=\"I'm Oluwafemi Busayo Awe, a graduate of biotechnology from the University of Portsmouth. I can restructured the protein sequences using pyMOL\"\n",
    "check=details.replace(\"biotechnology\", \"Biochemistry(BCH)\")\n",
    "print(check)"
   ]
  },
  {
   "cell_type": "code",
   "execution_count": 51,
   "id": "a033c377-e4f8-453b-88bb-bb4bbe98a350",
   "metadata": {},
   "outputs": [
    {
     "name": "stdout",
     "output_type": "stream",
     "text": [
      "[\"I'm\", 'Oluwafemi', 'Busayo', 'Awe,', 'a', 'graduate', 'of', 'biotechnology', 'from', 'the', 'University', 'of', 'Portsmouth.', 'I', 'can', 'restructured', 'the', 'protein', 'sequences', 'using', 'pyMOL']\n"
     ]
    }
   ],
   "source": [
    "details=\"I'm Oluwafemi Busayo Awe, a graduate of biotechnology from the University of Portsmouth. I can restructured the protein sequences using pyMOL\"\n",
    "check=re.split(r\"\\s\", details)\n",
    "print(check)"
   ]
  },
  {
   "cell_type": "code",
   "execution_count": 52,
   "id": "d84fb215-1377-481f-8fb5-3d544f2929e5",
   "metadata": {},
   "outputs": [
    {
     "name": "stdout",
     "output_type": "stream",
     "text": [
      "['a', 'a', 'a', 'a', 'a', 'a']\n"
     ]
    }
   ],
   "source": [
    "details=\"I'm Oluwafemi Busayo Awe, a graduate of biotechnology from the University of Portsmouth. I can restructured the protein sequences using pyMOL\"\n",
    "check=re.findall(\"a\", details)\n",
    "print(check)"
   ]
  },
  {
   "cell_type": "code",
   "execution_count": 57,
   "id": "e07a6af6-7157-4af1-bcbc-092cee0c6ba3",
   "metadata": {},
   "outputs": [
    {
     "name": "stdout",
     "output_type": "stream",
     "text": [
      "NO\n"
     ]
    }
   ],
   "source": [
    "details=\"I'm Oluwafemi Busayo Awe, a graduate of biotechnology from the University of Portsmouth. I can restructured the protein sequences using pyMOL\"\n",
    "check=re.search(\"Oluwafemi Buasyo Awe\", details)\n",
    "if check:\n",
    "    print(\"Yes, a match:\", check.group())\n",
    "else:\n",
    "    print(\"NO\")"
   ]
  },
  {
   "cell_type": "code",
   "execution_count": 66,
   "id": "19df8b37-4b2e-41c0-a368-0e1d38013bd9",
   "metadata": {},
   "outputs": [
    {
     "name": "stdout",
     "output_type": "stream",
     "text": [
      "found= Oluwafemi Busayo Awe\n"
     ]
    }
   ],
   "source": [
    "details=\"I'm Oluwafemi Busayo Awe, a graduate of biotechnology from the University of Portsmouth. I can restructured the protein sequences using pyMOL\"\n",
    "check=re.search(\"Oluwafemi Busayo Awe\", details)\n",
    "if check:\n",
    "    print(\"found=\", check.group())\n",
    "else:\n",
    "    print(\"none\")\n"
   ]
  },
  {
   "cell_type": "code",
   "execution_count": 72,
   "id": "463ac7f9-4f10-4c63-bf4f-372632edc79d",
   "metadata": {},
   "outputs": [
    {
     "name": "stdout",
     "output_type": "stream",
     "text": [
      "I'm Iwaloye Opeyemi, a graduate of biotechnology from the University of Portsmouth. I can restructured the protein sequences using pyMOL\n"
     ]
    }
   ],
   "source": [
    "#the sub function is use to replace the pattern with a replacement string in a string \n",
    "#the string is details\n",
    "pattern=r\"Oluwafemi Busayo Awe\" \n",
    "replacement=\"Iwaloye Opeyemi\"\n",
    "outcome=re.sub(pattern, replacement, details, flags=re.IGNORECASE)\n",
    "print(outcome)"
   ]
  },
  {
   "cell_type": "code",
   "execution_count": 74,
   "id": "0a49025f-076c-45bd-8d98-3a1220a55c29",
   "metadata": {},
   "outputs": [
    {
     "name": "stdout",
     "output_type": "stream",
     "text": [
      "ABC\n"
     ]
    }
   ],
   "source": [
    "d = \"ABCDEFG\"\n",
    "print(d[0:3])\n",
    "#slicing"
   ]
  },
  {
   "cell_type": "code",
   "execution_count": 75,
   "id": "e2333045-b2e1-477a-926e-bf0da0c8f2ee",
   "metadata": {},
   "outputs": [
    {
     "name": "stdout",
     "output_type": "stream",
     "text": [
      "correct\n"
     ]
    }
   ],
   "source": [
    "e = 'clocrkr1e1c1t'\n",
    "print(e[::2])\n",
    "#stride"
   ]
  },
  {
   "cell_type": "code",
   "execution_count": 76,
   "id": "79482766-e02d-4a62-8f70-5e425fa1f3d9",
   "metadata": {},
   "outputs": [
    {
     "name": "stdout",
     "output_type": "stream",
     "text": [
      "\\\\\n"
     ]
    }
   ],
   "source": [
    "print(r\"\\\\\")"
   ]
  },
  {
   "cell_type": "code",
   "execution_count": 80,
   "id": "e0f4e329-66f7-4b99-a47f-26baac933c3c",
   "metadata": {},
   "outputs": [
    {
     "name": "stdout",
     "output_type": "stream",
     "text": [
      "b: you're wrong\\\\mad\n"
     ]
    }
   ],
   "source": [
    "a=r\"you're wrong\\\\mad\"\n",
    "print(\"b:\",a)"
   ]
  },
  {
   "cell_type": "code",
   "execution_count": 82,
   "id": "64819c2e-da61-44d1-b79f-a5e00da04ccf",
   "metadata": {},
   "outputs": [
    {
     "name": "stdout",
     "output_type": "stream",
     "text": [
      "you are right\n"
     ]
    }
   ],
   "source": [
    "f2=\"YOU ARE RIGHT\"\n",
    "d=f2.lower()\n",
    "print(d)"
   ]
  },
  {
   "cell_type": "code",
   "execution_count": 84,
   "id": "53b14b5f-8014-4cfb-a309-3e1d809cafe8",
   "metadata": {},
   "outputs": [
    {
     "name": "stdout",
     "output_type": "stream",
     "text": [
      "95\n"
     ]
    }
   ],
   "source": [
    "g = \"Mary had a little lamb Little lamb, little lamb Mary had a little lamb \\\n",
    "Its fleece was white as snow And everywhere that Mary went Mary went, Mary went \\\n",
    "Everywhere that Mary went The lamb was sure to go\"\n",
    "print(g.find(\"snow\"))"
   ]
  },
  {
   "cell_type": "code",
   "execution_count": 86,
   "id": "05636572-3d5f-4f27-bb4e-f639bca93aec",
   "metadata": {},
   "outputs": [
    {
     "name": "stdout",
     "output_type": "stream",
     "text": [
      "Bob had a little lamb Little lamb, little lamb Bob had a little lamb Its fleece was white as snow And everywhere that Bob went Bob went, Bob went Everywhere that Bob went The lamb was sure to go\n"
     ]
    }
   ],
   "source": [
    "print(g.replace(\"Mary\", \"Bob\"))"
   ]
  },
  {
   "cell_type": "code",
   "execution_count": 89,
   "id": "053f0874-0216-4b26-b2ff-18a07ed6da2c",
   "metadata": {},
   "outputs": [
    {
     "name": "stdout",
     "output_type": "stream",
     "text": [
      "Mary had a little lamb Little lamb. little lamb Mary had a little lamb Its fleece was white as snow And everywhere that Mary went Mary went. Mary went Everywhere that Mary went The lamb was sure to go\n"
     ]
    }
   ],
   "source": [
    "pattern=r\",\"\n",
    "replace=\".\"\n",
    "print(re.sub(pattern,replace,g))"
   ]
  },
  {
   "cell_type": "code",
   "execution_count": 91,
   "id": "a5cd29d8-52f3-4406-83b5-0db09c75e647",
   "metadata": {},
   "outputs": [
    {
     "name": "stdout",
     "output_type": "stream",
     "text": [
      "Mary had a little lamb Little lamb. little lamb Mary had a little lamb Its fleece was white as snow And everywhere that Mary went Mary went. Mary went Everywhere that Mary went The lamb was sure to go\n"
     ]
    }
   ],
   "source": [
    "g = \"Mary had a little lamb Little lamb, little lamb Mary had a little lamb \\\n",
    "Its fleece was white as snow And everywhere that Mary went Mary went, Mary went \\\n",
    "Everywhere that Mary went The lamb was sure to go\"\n",
    "print(g.replace(\",\",\".\"))"
   ]
  },
  {
   "cell_type": "code",
   "execution_count": 94,
   "id": "2db3423c-804e-4809-971a-efc3297a26a5",
   "metadata": {},
   "outputs": [
    {
     "name": "stdout",
     "output_type": "stream",
     "text": [
      "<re.Match object; span=(14, 15), match='1'>\n"
     ]
    }
   ],
   "source": [
    "s3 = \"House number- 1105\"\n",
    "print(re.search(r\"\\d\", s3))"
   ]
  },
  {
   "cell_type": "code",
   "execution_count": 106,
   "id": "7c835f99-7f37-4bae-8ec7-b9204f2e6d98",
   "metadata": {},
   "outputs": [
    {
     "name": "stdout",
     "output_type": "stream",
     "text": [
      "it's a match: 1105\n"
     ]
    }
   ],
   "source": [
    "s3 = \"House number- 1105\"\n",
    "result= re.search(r\"\\d\\d\\d\\d\", s3)\n",
    "if result:\n",
    "    print(\"it's a match:\", result.group())\n",
    "else:\n",
    "    print(\"No match\")"
   ]
  },
  {
   "cell_type": "code",
   "execution_count": 108,
   "id": "f5b358b1-583c-4f49-91ab-456f88cf00bc",
   "metadata": {},
   "outputs": [
    {
     "name": "stdout",
     "output_type": "stream",
     "text": [
      "The quick brown bear jumps over the lazy dog.\n"
     ]
    }
   ],
   "source": [
    "str1= \"The quick brown fox jumps over the lazy dog.\"\n",
    "print(re.sub(r\"fox\", \"bear\", str1))"
   ]
  },
  {
   "cell_type": "code",
   "execution_count": 109,
   "id": "56c32451-a8de-4ad1-9225-1c18fc27d5bd",
   "metadata": {},
   "outputs": [
    {
     "name": "stdout",
     "output_type": "stream",
     "text": [
      "['woo', 'woo', 'woo', 'woo']\n"
     ]
    }
   ],
   "source": [
    "str2= \"How much wood would a woodchuck chuck, if a woodchuck could chuck wood?\"\n",
    "print(re.findall(r\"woo\", str2))"
   ]
  },
  {
   "cell_type": "code",
   "execution_count": 110,
   "id": "cff5771f-db4b-4135-a682-51dab257fe2b",
   "metadata": {},
   "outputs": [
    {
     "name": "stdout",
     "output_type": "stream",
     "text": [
      "AB\n",
      "C\n",
      "DE\n"
     ]
    }
   ],
   "source": [
    "print(\"AB\\nC\\nDE\")"
   ]
  },
  {
   "cell_type": "code",
   "execution_count": 111,
   "id": "9587bbd5-e3d7-4060-b7ad-3a72070b8059",
   "metadata": {},
   "outputs": [
    {
     "data": {
      "text/plain": [
       "5"
      ]
     },
     "execution_count": 111,
     "metadata": {},
     "output_type": "execute_result"
    }
   ],
   "source": [
    "\"helloMike\".find(\"Mike\")"
   ]
  },
  {
   "cell_type": "code",
   "execution_count": 112,
   "id": "682ddf32-4d1e-432a-be05-342ea2e55981",
   "metadata": {},
   "outputs": [
    {
     "data": {
      "text/plain": [
       "'i'"
      ]
     },
     "execution_count": 112,
     "metadata": {},
     "output_type": "execute_result"
    }
   ],
   "source": [
    "Name=\"Femi\"\n",
    "Name[-1]"
   ]
  },
  {
   "cell_type": "code",
   "execution_count": 113,
   "id": "fe11ea2e-6334-4756-aa75-3582081f6c8d",
   "metadata": {},
   "outputs": [
    {
     "data": {
      "text/plain": [
       "0"
      ]
     },
     "execution_count": 113,
     "metadata": {},
     "output_type": "execute_result"
    }
   ],
   "source": [
    "int(False)"
   ]
  },
  {
   "cell_type": "code",
   "execution_count": 115,
   "id": "54aaf13b-9e14-400b-bf3f-2a28a4d7ee96",
   "metadata": {},
   "outputs": [
    {
     "data": {
      "text/plain": [
       "'Maria Rodriguez'"
      ]
     },
     "execution_count": 115,
     "metadata": {},
     "output_type": "execute_result"
    }
   ],
   "source": [
    "\"Maria\"+\" Rodriguez\""
   ]
  },
  {
   "cell_type": "code",
   "execution_count": 117,
   "id": "e8edfabc-3a76-4d37-9765-aee2af0448e5",
   "metadata": {},
   "outputs": [
    {
     "data": {
      "text/plain": [
       "'Maria Rodriguez'"
      ]
     },
     "execution_count": 117,
     "metadata": {},
     "output_type": "execute_result"
    }
   ],
   "source": [
    "\"Maria\"+\" \"+\"Rodriguez\""
   ]
  },
  {
   "cell_type": "code",
   "execution_count": 119,
   "id": "f3d9d267-ec13-4d55-92cb-e8d0db295869",
   "metadata": {},
   "outputs": [
    {
     "data": {
      "text/plain": [
       "22"
      ]
     },
     "execution_count": 119,
     "metadata": {},
     "output_type": "execute_result"
    }
   ],
   "source": [
    "int(\"22\")"
   ]
  },
  {
   "cell_type": "code",
   "execution_count": 120,
   "id": "8625bb81-58b4-4aee-8f9e-57224eac3f77",
   "metadata": {},
   "outputs": [
    {
     "data": {
      "text/plain": [
       "22.5"
      ]
     },
     "execution_count": 120,
     "metadata": {},
     "output_type": "execute_result"
    }
   ],
   "source": [
    "float(\"22.5\")"
   ]
  }
 ],
 "metadata": {
  "kernelspec": {
   "display_name": "Python [conda env:anacondaa3]",
   "language": "python",
   "name": "conda-env-anacondaa3-py"
  },
  "language_info": {
   "codemirror_mode": {
    "name": "ipython",
    "version": 3
   },
   "file_extension": ".py",
   "mimetype": "text/x-python",
   "name": "python",
   "nbconvert_exporter": "python",
   "pygments_lexer": "ipython3",
   "version": "3.12.7"
  }
 },
 "nbformat": 4,
 "nbformat_minor": 5
}
